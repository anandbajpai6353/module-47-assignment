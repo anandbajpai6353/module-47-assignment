{
 "cells": [
  {
   "cell_type": "markdown",
   "id": "17de86c0-5b53-47e7-9a1b-641497f6a285",
   "metadata": {},
   "source": [
    "Q1. What is the Probability density function?"
   ]
  },
  {
   "cell_type": "markdown",
   "id": "140e6a07-f9d3-4d21-95ff-a7993093ca3e",
   "metadata": {},
   "source": [
    "#A1\n",
    "\n",
    "## Probability Density Function (PDF)\n",
    "\n",
    "The Probability Density Function (PDF) describes the likelihood of a continuous random variable taking on a particular value. For a random variable \\( X \\), the PDF \\( f(x) \\) is defined such that:\n",
    "\n",
    "\\[ P(a \\leq X \\leq b) = \\int_a^b f(x) \\, dx \\]\n",
    "\n",
    "where \\( f(x) \\) satisfies the following properties:\n",
    "- \\( f(x) \\geq 0 \\) for all \\( x \\)\n",
    "- \\( \\int_{-\\infty}^{\\infty} f(x) \\, dx = 1 \\)\n",
    "\n",
    "### Example: Normal Distribution\n",
    "\n",
    "The PDF of a normal (Gaussian) distribution with mean \\( \\mu \\) and standard deviation \\( \\sigma \\) is given by:\n",
    "\n",
    "\\[ f(x) = \\frac{1}{\\sigma \\sqrt{2\\pi}} e^{-\\frac{(x - \\mu)^2}{2\\sigma^2}} \\]\n",
    "\n",
    "This function describes how likely it is for the random variable \\( X \\) to take on values near \\( x \\), with higher values of \\( f(x) \\) indicating higher probability density around \\( x \\).\n",
    "\n",
    "PDFs are fundamental in statistical analysis and are widely used in various disciplines to model and understand continuous data.\n"
   ]
  },
  {
   "cell_type": "raw",
   "id": "491c6b7e-5b30-4f6f-9836-c77410323823",
   "metadata": {},
   "source": []
  },
  {
   "cell_type": "raw",
   "id": "c4a1a56a-2383-423c-ad2e-4c2f4efcf25e",
   "metadata": {},
   "source": []
  },
  {
   "cell_type": "markdown",
   "id": "21ac94bd-c1e1-45d5-89ef-5befc89a9933",
   "metadata": {},
   "source": [
    "Q2. What are the types of Probability distribution?"
   ]
  },
  {
   "cell_type": "markdown",
   "id": "2ea8bda9-7f06-41bd-b8ab-e6d422ab271a",
   "metadata": {},
   "source": [
    "#A2\n",
    "## Types of Probability Distributions\n",
    "\n",
    "Probability distributions are categorized into two main types: **discrete** and **continuous** distributions. Here's an overview of each type along with examples:\n",
    "\n",
    "### 1. Discrete Probability Distributions\n",
    "\n",
    "- **Bernoulli Distribution**: Represents the probability of success (usually denoted as 1) or failure (denoted as 0) in a single Bernoulli trial.\n",
    "- **Binomial Distribution**: Describes the number of successes in a fixed number of independent Bernoulli trials.\n",
    "- **Poisson Distribution**: Models the number of events occurring within a fixed interval of time or space, assuming events occur independently at a constant rate.\n",
    "- **Geometric Distribution**: Represents the number of trials needed to achieve the first success in a series of Bernoulli trials.\n",
    "- **Hypergeometric Distribution**: Describes the probability of \\( k \\) successes in \\( n \\) draws from a finite population without replacement.\n",
    "- **Discrete Uniform Distribution**: Each outcome has an equal probability.\n",
    "\n",
    "### 2. Continuous Probability Distributions\n",
    "\n",
    "- **Normal Distribution**: Often called the Gaussian distribution, characterized by a bell-shaped curve. It is widely used due to the Central Limit Theorem.\n",
    "- **Uniform Distribution**: All outcomes in an interval have equal probability.\n",
    "- **Exponential Distribution**: Describes the time between events in a Poisson process, where events occur continuously and independently at a constant average rate.\n",
    "- **Gamma Distribution**: Generalizes the exponential distribution to handle cases where events occur at irregular intervals.\n",
    "- **Beta Distribution**: Describes the distribution of probabilities in Bayesian statistics.\n",
    "- **Chi-Squared Distribution**: Used in hypothesis testing and confidence interval construction.\n",
    "\n",
    "These probability distributions are fundamental in statistics and are used to model various real-world phenomena, providing insights into data characteristics and behavior.\n"
   ]
  },
  {
   "cell_type": "raw",
   "id": "4bf3c5b6-4d32-47e1-a90a-7299e95f2910",
   "metadata": {},
   "source": []
  },
  {
   "cell_type": "raw",
   "id": "51500f14-18fd-448e-9cbc-3f6da1da6811",
   "metadata": {},
   "source": []
  },
  {
   "cell_type": "markdown",
   "id": "ed9d0bdb-cb7b-44db-bad1-0d384e80b37f",
   "metadata": {},
   "source": [
    "Q3. Write a Python function to calculate the probability density function of a normal distribution with\n",
    "given mean and standard deviation at a given point."
   ]
  },
  {
   "cell_type": "code",
   "execution_count": 3,
   "id": "8199ddf2-5386-49a6-b348-7d2d7a59bd93",
   "metadata": {},
   "outputs": [
    {
     "name": "stdout",
     "output_type": "stream",
     "text": [
      "The PDF of N(0, 1) at x = 1.5 is: 0.12951759566589174\n"
     ]
    }
   ],
   "source": [
    "import math\n",
    "\n",
    "def normal_pdf(x, mu, sigma):\n",
    "    coefficient = 1 / (sigma * math.sqrt(2 * math.pi))\n",
    "    exponent = -((x - mu) ** 2) / (2 * sigma ** 2)\n",
    "    pdf_value = coefficient * math.exp(exponent)\n",
    "    return pdf_value\n",
    "\n",
    "mean = 0\n",
    "std_dev = 1\n",
    "point = 1.5\n",
    "pdf = normal_pdf(point, mean, std_dev)\n",
    "print(f\"The PDF of N({mean}, {std_dev**2}) at x = {point} is: {pdf}\")\n"
   ]
  },
  {
   "cell_type": "raw",
   "id": "97f14208-47ce-4886-88cd-61984c11ff8f",
   "metadata": {},
   "source": []
  },
  {
   "cell_type": "raw",
   "id": "3456f9c5-77da-4674-9fe1-801b3ba2ff54",
   "metadata": {},
   "source": []
  },
  {
   "cell_type": "markdown",
   "id": "00fc0270-180d-4cb4-b4fa-d8c32ea8a896",
   "metadata": {},
   "source": [
    "Q4. What are the properties of Binomial distribution? Give two examples of events where binomial\n",
    "distribution can be applied."
   ]
  },
  {
   "cell_type": "markdown",
   "id": "556ef8c6-a0f6-4d8d-8ede-377eec4ab087",
   "metadata": {},
   "source": [
    "### Properties of Binomial Distribution\n",
    "\n",
    "1. **Fixed Number of Trials**: The distribution describes a fixed number \\( n \\) of identical trials or experiments.\n",
    "\n",
    "2. **Independent Trials**: Each trial is independent of the others.\n",
    "\n",
    "3. **Two Outcomes**: Each trial results in one of two outcomes, typically labeled as success (S) and failure (F).\n",
    "\n",
    "4. **Constant Probability**: The probability \\( p \\) of success is constant for each trial.\n",
    "\n",
    "5. **Discrete Nature**: The random variable \\( X \\), representing the number of successes, takes on discrete integer values from \\( 0 \\) to \\( n \\).\n",
    "\n",
    "6. **Probability Mass Function**: The probability mass function (PMF) of a Binomial distribution for a random variable \\( X \\) is given by:\n",
    "   \\[\n",
    "   P(X = k) = \\binom{n}{k} p^k (1 - p)^{n-k}\n",
    "   \\]\n",
    "   where \\( \\binom{n}{k} \\) is the binomial coefficient, \\( p \\) is the probability of success in a single trial, \\( n \\) is the number of trials, and \\( k \\) is the number of successes.\n",
    "\n",
    "### Examples of Events Where Binomial Distribution Applies\n",
    "\n",
    "1. **Coin Flips**\n",
    "\n",
    "   - **Event**: Flipping a fair coin \\( n \\) times and counting the number of heads.\n",
    "   - **Binomial Parameters**: \\( n \\) (number of trials), \\( p = 0.5 \\) (probability of heads for each trial).\n",
    "   - **Example**: Determine the probability of getting exactly 3 heads in 5 flips of a fair coin.\n",
    "\n",
    "2. **Product Defects**\n",
    "\n",
    "   - **Event**: Inspecting \\( n \\) products and counting the number that are defective.\n",
    "   - **Binomial Parameters**: \\( n \\) (number of products inspected), \\( p \\) (probability that any given product is defective, assumed constant).\n",
    "   - **Example**: Calculate the probability that out of 10 randomly selected products, exactly 2 are defective, given a known defect rate.\n",
    "\n",
    "In both examples, the Binomial distribution is used because each trial (coin flip or product inspection) has two possible outcomes (success or failure), the trials are independent, and the probability of success (heads or defective product) remains constant across all trials.\n"
   ]
  },
  {
   "cell_type": "raw",
   "id": "8bbfa216-97b0-4685-b68b-4775aef05097",
   "metadata": {},
   "source": []
  },
  {
   "cell_type": "raw",
   "id": "725e6d1d-d749-4a46-96b4-b714993789b3",
   "metadata": {},
   "source": []
  },
  {
   "cell_type": "markdown",
   "id": "73a17915-89cb-4bb6-a933-124f18f2c2b4",
   "metadata": {},
   "source": [
    "Q5. Generate a random sample of size 1000 from a binomial distribution with probability of success 0.4\n",
    "and plot a histogram of the results using matplotlib."
   ]
  },
  {
   "cell_type": "code",
   "execution_count": 4,
   "id": "c76c51de-abc9-4213-876e-e31567cf1692",
   "metadata": {},
   "outputs": [
    {
     "data": {
      "image/png": "[encoded data removed]",
      "text/plain": [
       "<Figure size 800x600 with 1 Axes>"
      ]
     },
     "metadata": {},
     "output_type": "display_data"
    }
   ],
   "source": [
    "import numpy as np\n",
    "import matplotlib.pyplot as plt\n",
    "\n",
    "# Parameters\n",
    "n = 1   # Number of trials for each sample\n",
    "p = 0.4 # Probability of success\n",
    "\n",
    "# Generate random sample\n",
    "sample_size = 1000\n",
    "sample = np.random.binomial(n, p, sample_size)\n",
    "\n",
    "# Plotting histogram\n",
    "plt.figure(figsize=(8, 6))\n",
    "plt.hist(sample, bins=np.arange(n+2)-0.5, density=True, edgecolor='black')\n",
    "plt.xticks(range(n+1))\n",
    "plt.xlabel('Number of Successes')\n",
    "plt.ylabel('Probability')\n",
    "plt.title(f'Histogram of Binomial Distribution (n={n}, p={p})')\n",
    "plt.grid(axis='y', alpha=0.75)\n",
    "plt.show()\n"
   ]
  },
  {
   "cell_type": "raw",
   "id": "8b3e8d96-7f02-4239-9b61-fff72323e743",
   "metadata": {},
   "source": []
  },
  {
   "cell_type": "raw",
   "id": "c6e5e66e-0ebc-4083-8f06-e0f9c47d64b0",
   "metadata": {},
   "source": []
  },
  {
   "cell_type": "markdown",
   "id": "a9623a15-b86a-4834-9504-dd69f7b9eeb0",
   "metadata": {},
   "source": [
    "Q6. Write a Python function to calculate the cumulative distribution function of a Poisson distribution\n",
    "with given mean at a given point."
   ]
  },
  {
   "cell_type": "code",
   "execution_count": 5,
   "id": "f5ef16c1-c374-4311-85a6-fdef4093996b",
   "metadata": {},
   "outputs": [
    {
     "name": "stdout",
     "output_type": "stream",
     "text": [
      "CDF of Poisson(3.0) at 2: 0.42319008112684353\n"
     ]
    }
   ],
   "source": [
    "import math\n",
    "\n",
    "def poisson_cdf(k, mean):\n",
    "    cdf = 0.0\n",
    "    for i in range(k + 1):\n",
    "        cdf += math.exp(-mean) * (mean ** i) / math.factorial(i)\n",
    "    return cdf\n",
    "\n",
    "# Example usage:\n",
    "mean = 3.0\n",
    "k = 2\n",
    "print(f\"CDF of Poisson({mean}) at {k}: {poisson_cdf(k, mean)}\")\n"
   ]
  },
  {
   "cell_type": "raw",
   "id": "4dedeb1e-268b-4c09-8964-25e33550d49a",
   "metadata": {},
   "source": []
  },
  {
   "cell_type": "raw",
   "id": "5a61ac36-6290-454e-afc8-1ccc74dc7188",
   "metadata": {},
   "source": []
  },
  {
   "cell_type": "markdown",
   "id": "bba4ff2c-ad62-42fd-b95e-35500390ef71",
   "metadata": {},
   "source": [
    "Q7. How Binomial distribution different from Poisson distribution?"
   ]
  },
  {
   "cell_type": "markdown",
   "id": "9a69c73b-0869-4661-9068-2c166ea54a68",
   "metadata": {},
   "source": [
    "the differences between the Binomial and Poisson distributions:\n",
    "\n",
    "### Binomial Distribution vs Poisson Distribution\n",
    "\n",
    "The Binomial and Poisson distributions are both fundamental in probability theory and statistics, but they serve different purposes and model different types of phenomena:\n",
    "\n",
    "1. **Nature of Events**:\n",
    "   - **Binomial Distribution**: Models the number of successes (denoted as \\( k \\)) in a fixed number of independent Bernoulli trials.\n",
    "   - **Poisson Distribution**: Models the number of events occurring in a fixed interval of time or space.\n",
    "\n",
    "2. **Parameters**:\n",
    "   - **Binomial Distribution**: Defined by parameters \\( n \\) (number of trials) and \\( p \\) (probability of success).\n",
    "   - **Poisson Distribution**: Defined by parameter \\( \\lambda \\) (average rate of events).\n",
    "\n",
    "3. **Assumptions**:\n",
    "   - **Binomial Distribution**: Assumes a fixed number of trials \\( n \\), each with the same probability of success \\( p \\), and independence between trials.\n",
    "   - **Poisson Distribution**: Assumes events occur independently of each other and at a constant average rate \\( \\lambda \\).\n",
    "\n",
    "4. **Use Cases**:\n",
    "   - **Binomial Distribution**: Used for scenarios where there are a fixed number of trials and we are interested in the number of successes (e.g., number of heads in 10 coin flips).\n",
    "   - **Poisson Distribution**: Used when we are interested in the number of events occurring within a fixed interval of time or space, especially when events are rare and the average rate of occurrence is known (e.g., number of customers arriving per hour).\n",
    "\n",
    "5. **Relationship**:\n",
    "   - The Poisson distribution can approximate the Binomial distribution under certain conditions, particularly when the number of trials \\( n \\) is large and the probability of success \\( p \\) is small, ensuring \\( \\lambda = n \\cdot p \\) is moderate or large.\n",
    "\n",
    "6. **Mathematical Form**:\n",
    "   - **Binomial PMF**: \\( P(X = k) = \\binom{n}{k} p^k (1 - p)^{n-k} \\)\n",
    "   - **Poisson PMF**: \\( P(X = k) = \\frac{e^{-\\lambda} \\lambda^k}{k!} \\)\n",
    "\n",
    "These distributions provide essential tools for analyzing and modeling different types of random processes, depending on whether the focus is on a fixed number of trials or events occurring over time or space."
   ]
  },
  {
   "cell_type": "raw",
   "id": "c9b772aa-25c7-4148-af1f-f525dde74cd9",
   "metadata": {},
   "source": []
  },
  {
   "cell_type": "raw",
   "id": "8f08b827-f38a-4233-b551-5ebe4879ca0c",
   "metadata": {},
   "source": []
  },
  {
   "cell_type": "markdown",
   "id": "bfa977f6-7209-49f2-8084-3bc058a8fb89",
   "metadata": {},
   "source": [
    "Q8. Generate a random sample of size 1000 from a Poisson distribution with mean 5 and calculate the\n",
    "sample mean and variance."
   ]
  },
  {
   "cell_type": "code",
   "execution_count": 6,
   "id": "8e326787-778e-4596-83f9-ac35fadcc77f",
   "metadata": {},
   "outputs": [
    {
     "name": "stdout",
     "output_type": "stream",
     "text": [
      "Sample Mean: 5.178\n",
      "Sample Variance: 5.202316\n"
     ]
    }
   ],
   "source": [
    "import numpy as np\n",
    "\n",
    "# Parameters\n",
    "lambda_value = 5\n",
    "sample_size = 1000\n",
    "\n",
    "# Generate random sample from Poisson distribution\n",
    "sample = np.random.poisson(lambda_value, size=sample_size)\n",
    "\n",
    "# Calculate sample mean and variance\n",
    "sample_mean = np.mean(sample)\n",
    "sample_variance = np.var(sample)\n",
    "\n",
    "print(f\"Sample Mean: {sample_mean}\")\n",
    "print(f\"Sample Variance: {sample_variance}\")\n"
   ]
  },
  {
   "cell_type": "raw",
   "id": "18494af6-8189-4160-9985-f79889e0659c",
   "metadata": {},
   "source": []
  },
  {
   "cell_type": "raw",
   "id": "16a31735-c096-47a6-937a-db0c513dc1da",
   "metadata": {},
   "source": []
  },
  {
   "cell_type": "markdown",
   "id": "d4d1bbc5-4214-4931-8e00-6b1794283d70",
   "metadata": {},
   "source": [
    "Q9. How mean and variance are related in Binomial distribution and Poisson distribution?"
   ]
  },
  {
   "cell_type": "markdown",
   "id": "65662921-7ed7-4587-a0c9-e9eb78195118",
   "metadata": {},
   "source": [
    "In both the Binomial and Poisson distributions:\n",
    "\n",
    "1. **Mean (Expected Value):**\n",
    "   - **Binomial Distribution:** The mean \\( \\mu \\) is given by \\( \\mu = np \\), where \\( n \\) is the number of trials and \\( p \\) is the probability of success in each trial.\n",
    "   - **Poisson Distribution:** The mean \\( \\mu \\) is equal to both the expected value and variance, given by \\( \\mu = \\lambda \\), where \\( \\lambda \\) is the rate parameter (average number of events) of the Poisson distribution.\n",
    "\n",
    "2. **Variance:**\n",
    "   - **Binomial Distribution:** The variance \\( \\sigma^2 \\) is \\( \\sigma^2 = np(1-p) \\).\n",
    "   - **Poisson Distribution:** The variance \\( \\sigma^2 \\) is \\( \\sigma^2 = \\lambda \\).\n",
    "\n",
    "**Key Relationships:**\n",
    "\n",
    "- For a **Binomial Distribution**, the variance is dependent on \\( n \\) (number of trials) and \\( p \\) (probability of success). As \\( n \\) increases while keeping \\( p \\) fixed, the distribution approaches a Poisson distribution with mean \\( np \\).\n",
    "  \n",
    "- In the **Poisson Distribution**, both the mean and the variance are equal to \\( \\lambda \\), the rate parameter. This distribution is often used to approximate the Binomial distribution when the number of trials \\( n \\) is large and the probability \\( p \\) is small, with \\( \\lambda = np \\).\n",
    "\n",
    "Therefore, while both distributions relate to counting events (successes or occurrences) over a fixed number of trials (Binomial) or in a fixed interval (Poisson), their mean and variance provide different insights into the distribution of these events."
   ]
  },
  {
   "cell_type": "raw",
   "id": "f60e610c-d02f-45ac-aeb7-94bc96d0e0ba",
   "metadata": {},
   "source": []
  },
  {
   "cell_type": "raw",
   "id": "f6f6c311-d562-4b3d-9cb8-dd832c50cf34",
   "metadata": {},
   "source": []
  },
  {
   "cell_type": "markdown",
   "id": "5a8e2c30-3d3a-4ccb-9a73-fa5acfff85ab",
   "metadata": {},
   "source": [
    "Q10. In normal distribution with respect to mean position, where does the least frequent data appear?"
   ]
  },
  {
   "cell_type": "markdown",
   "id": "32db36e9-231c-42a0-842a-08e45afd08c6",
   "metadata": {},
   "source": [
    "In a normal distribution, also known as a Gaussian distribution, the least frequent data points are located in the tails of the distribution, farthest away from the mean. These are the extreme values that occur at the ends of the bell curve. In terms of frequency, fewer data points appear in these extreme tails compared to the central part of the distribution, where the mean is located."
   ]
  },
  {
   "cell_type": "code",
   "execution_count": null,
   "id": "61cd9749-b431-47e4-8116-0e5d4642167b",
   "metadata": {},
   "outputs": [],
   "source": []
  }
 ],
 "metadata": {
  "kernelspec": {
   "display_name": "Python 3 (ipykernel)",
   "language": "python",
   "name": "python3"
  },
  "language_info": {
   "codemirror_mode": {
    "name": "ipython",
    "version": 3
   },
   "file_extension": ".py",
   "mimetype": "text/x-python",
   "name": "python",
   "nbconvert_exporter": "python",
   "pygments_lexer": "ipython3",
   "version": "3.10.8"
  }
 },
 "nbformat": 4,
 "nbformat_minor": 5
}
